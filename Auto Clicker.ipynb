{
 "cells": [
  {
   "cell_type": "markdown",
   "id": "60b6fbd2",
   "metadata": {},
   "source": [
    "Автокликер записывает щелчки мышью и действия клавиатуры.\n",
    "Для записи используется блок ниже"
   ]
  },
  {
   "cell_type": "code",
   "execution_count": 1,
   "id": "d99f47f2",
   "metadata": {
    "code_folding": []
   },
   "outputs": [],
   "source": [
    "#запись логов\n",
    "def logi(fale_name):\n",
    "    from pynput.mouse import Listener as Listener1\n",
    "    from pynput.keyboard import Key\n",
    "    from pynput.keyboard import Listener as Listener2\n",
    "\n",
    "    import logging\n",
    "    fale_name = fale_name+\".txt\"\n",
    "\n",
    "    logging.basicConfig(filename=fale_name, level=logging.DEBUG, format='%(asctime)s; %(message)s')\n",
    "\n",
    "    def on_click(x, y, button, pressed):\n",
    "        if pressed:\n",
    "            logging.info('{2};{0};{1};;'.format(x, y, button))\n",
    "\n",
    "    def on_scroll(x, y, dx, dy):\n",
    "        logging.info('scroll;{0};{1};{2};{3}'.format(x, y, dx, dy))\n",
    "\n",
    "    def on_press(key):\n",
    "        logging.info(\"press.{0};;;;\".format(key))\n",
    "        if key == Key.esc:\n",
    "            return False\n",
    "\n",
    "    def on_release(key):\n",
    "\n",
    "        logging.info(\"releas.{0};;;;\".format(key))\n",
    "        if key == Key.esc:\n",
    "            return False\n",
    "\n",
    "\n",
    "    with Listener1(on_click=on_click, on_scroll=on_scroll) as listener1, Listener2(on_press=on_press, on_release=on_release) as listener2:\n",
    "        listener2.join()\n",
    "        listener1.join()\n",
    "       \n",
    "    \n",
    "logi('record') # record имя файла для записи логов в ТХТ"
   ]
  },
  {
   "cell_type": "markdown",
   "id": "ad04818f",
   "metadata": {},
   "source": [
    "После записи логов в TXT файл можно удалить лишнее если было случайно записаны ненужные действия, удаляя строки целиком.\n",
    "\n",
    "Ниже фунцкии обрабатывают файл логов и воспроизводят их."
   ]
  },
  {
   "cell_type": "code",
   "execution_count": null,
   "id": "ef027cdd",
   "metadata": {
    "code_folding": [
     0,
     18
    ]
   },
   "outputs": [],
   "source": [
    "def obr_log(fale_name):\n",
    "\n",
    "    fale_name = fale_name+\".txt\"\n",
    "    df = pd.read_csv(fale_name, sep=';', names=[\n",
    "                     'date', 'mouve', 'x', 'y', 'x_vector', 'y_vector'], encoding='ansi') \n",
    "    df = df.fillna(0)\n",
    "    df['date'] = pd.to_datetime(df['date'], format='%Y-%m-%d %H:%M:%S,%f')\n",
    "    df['x'] = df['x'].astype(int)\n",
    "    df['y'] = df['y'].astype(int)\n",
    "    df['x_vector'] = df['x_vector'].astype(int)\n",
    "    df['y_vector'] = df['y_vector'].astype(int)\n",
    "    df['mouve'] = df['mouve'].str.replace('Button.', '')\n",
    "    import datetime\n",
    "    df['interval'] = 0\n",
    "    for i in range(1, len(df)):\n",
    "        df['interval'][i] = ((df['date'][i] - df['date'][i-1]).seconds)\n",
    "    return df\n",
    "\n",
    "def vosproizvesti_logi(df):\n",
    "    import pyautogui as pag\n",
    "    from PIL import Image\n",
    "    import time\n",
    "    import keyboard\n",
    "\n",
    "    for i in range(len(df)):\n",
    "        start = df['mouve'][i].find('.')\n",
    "        do = df['mouve'][i]\n",
    "        interval = df['interval'][i]\n",
    "        if interval == 0:\n",
    "            interval = 0.25\n",
    "        elif interval > 10000:\n",
    "            interval = 1\n",
    "        elif interval > 10 and interval <= 10000:\n",
    "            interval += 5\n",
    "            # поднятие клавиши\n",
    "        if do[1:start] == 'releas':\n",
    "            # спецкнопка\n",
    "            if do[start+1:start+4] == 'Key':\n",
    "                time.sleep(interval)\n",
    "                bitt = do[start+5:]\n",
    "                pag.keyUp(bitt)\n",
    "                # обычная кнопка\n",
    "            else:\n",
    "                time.sleep(interval)\n",
    "                bitt = do[start+2:-1]\n",
    "                pag.keyUp(bitt)\n",
    "              # нажатие на клавишу\n",
    "        elif do[1:start] == 'press':\n",
    "            # спецкнопка\n",
    "            if do[start+1:start+4] == 'Key':\n",
    "                time.sleep(interval)\n",
    "                bitt = do[start+5:]\n",
    "                pag.keyDown(bitt)\n",
    "                # обычная кнопка\n",
    "            else:\n",
    "                time.sleep(interval)\n",
    "                bitt = do[start+2:-1]\n",
    "                pag.keyDown(bitt)\n",
    "                keyboard.write(bitt)\n",
    "        elif do == ' left':\n",
    "            time.sleep(interval)\n",
    "            pag.click(x=df['x'][i], y=df['y'][i])"
   ]
  },
  {
   "cell_type": "code",
   "execution_count": null,
   "id": "4f0534d4",
   "metadata": {
    "code_folding": [
     18
    ]
   },
   "outputs": [],
   "source": [
    "vosproizvesti_logi(obr_log('record'))"
   ]
  }
 ],
 "metadata": {
  "kernelspec": {
   "display_name": "Python 3 (ipykernel)",
   "language": "python",
   "name": "python3"
  },
  "language_info": {
   "codemirror_mode": {
    "name": "ipython",
    "version": 3
   },
   "file_extension": ".py",
   "mimetype": "text/x-python",
   "name": "python",
   "nbconvert_exporter": "python",
   "pygments_lexer": "ipython3",
   "version": "3.9.7"
  },
  "toc": {
   "base_numbering": 1,
   "nav_menu": {},
   "number_sections": true,
   "sideBar": true,
   "skip_h1_title": false,
   "title_cell": "Table of Contents",
   "title_sidebar": "Contents",
   "toc_cell": false,
   "toc_position": {},
   "toc_section_display": true,
   "toc_window_display": false
  }
 },
 "nbformat": 4,
 "nbformat_minor": 5
}
